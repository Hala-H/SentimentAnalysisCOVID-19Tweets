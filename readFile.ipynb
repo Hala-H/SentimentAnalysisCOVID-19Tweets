{
 "cells": [
  {
   "cell_type": "markdown",
   "id": "cd400dea",
   "metadata": {},
   "source": [
    "# Reading tsv file"
   ]
  },
  {
   "cell_type": "markdown",
   "id": "e5d90bd5",
   "metadata": {},
   "source": [
    "What we are doing is that we are reading the tsv file into a list. Then, we only take the column that has the tweets ids and put it in a separate txt file without the header to get it ready for hydrating."
   ]
  },
  {
   "cell_type": "code",
   "execution_count": 22,
   "id": "95ffc6dc",
   "metadata": {},
   "outputs": [],
   "source": [
    "import csv\n",
    "import pandas as pd\n",
    "import zipfile"
   ]
  },
  {
   "cell_type": "code",
   "execution_count": 24,
   "id": "597f4139",
   "metadata": {},
   "outputs": [],
   "source": [
    "with zipfile.ZipFile(\"saudi_arabia_tbcov.zip\",\"r\") as zip_ref:\n",
    "    zip_ref.extractall()"
   ]
  },
  {
   "cell_type": "code",
   "execution_count": 39,
   "id": "1d13cb8c",
   "metadata": {
    "scrolled": false
   },
   "outputs": [],
   "source": [
    "col_list = [\"tweet_id\", \"date_time\", \"lang\", \"sentiment_label\", \"sentiment_conf\", \n",
    "            \"gender_label\", \"geo_country_code\", \"geo_state\", \"geo_county\", \"geo_city\"]\n",
    "chunksize = 10 ** 6\n",
    "# for chunk in pd.read_csv('saudi_arabia_tbcov.tsv', sep = \"\\t\",header = 0, usecols = col_list, error_bad_lines = False, dtype='unicode', engine = \"python\", chunksize = chunksize):\n",
    "#     print(len(chunk))\n",
    "temp = pd.read_csv('saudi_arabia_tbcov.tsv', sep = \"\\t\", header = 0, usecols = col_list, dtype='unicode', chunksize = chunksize)\n",
    "df = pd.concat(temp, ignore_index=True)"
   ]
  },
  {
   "cell_type": "code",
   "execution_count": 45,
   "id": "953bb458",
   "metadata": {},
   "outputs": [
    {
     "data": {
      "text/html": [
       "<div>\n",
       "<style scoped>\n",
       "    .dataframe tbody tr th:only-of-type {\n",
       "        vertical-align: middle;\n",
       "    }\n",
       "\n",
       "    .dataframe tbody tr th {\n",
       "        vertical-align: top;\n",
       "    }\n",
       "\n",
       "    .dataframe thead th {\n",
       "        text-align: right;\n",
       "    }\n",
       "</style>\n",
       "<table border=\"1\" class=\"dataframe\">\n",
       "  <thead>\n",
       "    <tr style=\"text-align: right;\">\n",
       "      <th></th>\n",
       "      <th>tweet_id</th>\n",
       "      <th>date_time</th>\n",
       "      <th>lang</th>\n",
       "      <th>sentiment_conf</th>\n",
       "      <th>sentiment_label</th>\n",
       "      <th>gender_label</th>\n",
       "      <th>geo_country_code</th>\n",
       "      <th>geo_state</th>\n",
       "      <th>geo_county</th>\n",
       "      <th>geo_city</th>\n",
       "    </tr>\n",
       "  </thead>\n",
       "  <tbody>\n",
       "    <tr>\n",
       "      <th>0</th>\n",
       "      <td>1223395673850118145</td>\n",
       "      <td>2020-02-01T00:00:32</td>\n",
       "      <td>en</td>\n",
       "      <td>0.372</td>\n",
       "      <td>1</td>\n",
       "      <td>NaN</td>\n",
       "      <td>NaN</td>\n",
       "      <td>NaN</td>\n",
       "      <td>NaN</td>\n",
       "      <td>NaN</td>\n",
       "    </tr>\n",
       "    <tr>\n",
       "      <th>1</th>\n",
       "      <td>1223396003807522816</td>\n",
       "      <td>2020-02-01T00:01:51</td>\n",
       "      <td>en</td>\n",
       "      <td>0.718</td>\n",
       "      <td>0</td>\n",
       "      <td>NaN</td>\n",
       "      <td>NaN</td>\n",
       "      <td>NaN</td>\n",
       "      <td>NaN</td>\n",
       "      <td>NaN</td>\n",
       "    </tr>\n",
       "    <tr>\n",
       "      <th>2</th>\n",
       "      <td>1223396128328052736</td>\n",
       "      <td>2020-02-01T00:02:21</td>\n",
       "      <td>en</td>\n",
       "      <td>0.938</td>\n",
       "      <td>-1</td>\n",
       "      <td>NaN</td>\n",
       "      <td>NaN</td>\n",
       "      <td>NaN</td>\n",
       "      <td>NaN</td>\n",
       "      <td>NaN</td>\n",
       "    </tr>\n",
       "    <tr>\n",
       "      <th>3</th>\n",
       "      <td>1223397447482953728</td>\n",
       "      <td>2020-02-01T00:07:35</td>\n",
       "      <td>en</td>\n",
       "      <td>0.794</td>\n",
       "      <td>0</td>\n",
       "      <td>M</td>\n",
       "      <td>NaN</td>\n",
       "      <td>NaN</td>\n",
       "      <td>NaN</td>\n",
       "      <td>NaN</td>\n",
       "    </tr>\n",
       "    <tr>\n",
       "      <th>4</th>\n",
       "      <td>1223398681312804866</td>\n",
       "      <td>2020-02-01T00:12:29</td>\n",
       "      <td>en</td>\n",
       "      <td>0.606</td>\n",
       "      <td>0</td>\n",
       "      <td>NaN</td>\n",
       "      <td>NaN</td>\n",
       "      <td>NaN</td>\n",
       "      <td>NaN</td>\n",
       "      <td>NaN</td>\n",
       "    </tr>\n",
       "  </tbody>\n",
       "</table>\n",
       "</div>"
      ],
      "text/plain": [
       "              tweet_id            date_time lang sentiment_conf  \\\n",
       "0  1223395673850118145  2020-02-01T00:00:32   en          0.372   \n",
       "1  1223396003807522816  2020-02-01T00:01:51   en          0.718   \n",
       "2  1223396128328052736  2020-02-01T00:02:21   en          0.938   \n",
       "3  1223397447482953728  2020-02-01T00:07:35   en          0.794   \n",
       "4  1223398681312804866  2020-02-01T00:12:29   en          0.606   \n",
       "\n",
       "  sentiment_label gender_label geo_country_code geo_state geo_county geo_city  \n",
       "0               1          NaN              NaN       NaN        NaN      NaN  \n",
       "1               0          NaN              NaN       NaN        NaN      NaN  \n",
       "2              -1          NaN              NaN       NaN        NaN      NaN  \n",
       "3               0            M              NaN       NaN        NaN      NaN  \n",
       "4               0          NaN              NaN       NaN        NaN      NaN  "
      ]
     },
     "execution_count": 45,
     "metadata": {},
     "output_type": "execute_result"
    }
   ],
   "source": [
    "df.head()"
   ]
  },
  {
   "cell_type": "code",
   "execution_count": 46,
   "id": "0cae4308",
   "metadata": {},
   "outputs": [
    {
     "data": {
      "text/html": [
       "<div>\n",
       "<style scoped>\n",
       "    .dataframe tbody tr th:only-of-type {\n",
       "        vertical-align: middle;\n",
       "    }\n",
       "\n",
       "    .dataframe tbody tr th {\n",
       "        vertical-align: top;\n",
       "    }\n",
       "\n",
       "    .dataframe thead th {\n",
       "        text-align: right;\n",
       "    }\n",
       "</style>\n",
       "<table border=\"1\" class=\"dataframe\">\n",
       "  <thead>\n",
       "    <tr style=\"text-align: right;\">\n",
       "      <th></th>\n",
       "      <th>tweet_id</th>\n",
       "      <th>date_time</th>\n",
       "      <th>lang</th>\n",
       "      <th>sentiment_conf</th>\n",
       "      <th>sentiment_label</th>\n",
       "      <th>gender_label</th>\n",
       "      <th>geo_country_code</th>\n",
       "      <th>geo_state</th>\n",
       "      <th>geo_county</th>\n",
       "      <th>geo_city</th>\n",
       "    </tr>\n",
       "  </thead>\n",
       "  <tbody>\n",
       "    <tr>\n",
       "      <th>10027223</th>\n",
       "      <td>1377410239864176641</td>\n",
       "      <td>2021-03-31T23:59:26</td>\n",
       "      <td>ar</td>\n",
       "      <td>0.725</td>\n",
       "      <td>0</td>\n",
       "      <td>NaN</td>\n",
       "      <td>NaN</td>\n",
       "      <td>NaN</td>\n",
       "      <td>NaN</td>\n",
       "      <td>NaN</td>\n",
       "    </tr>\n",
       "    <tr>\n",
       "      <th>10027224</th>\n",
       "      <td>1377410257186553859</td>\n",
       "      <td>2021-03-31T23:59:31</td>\n",
       "      <td>ar</td>\n",
       "      <td>0.938</td>\n",
       "      <td>1</td>\n",
       "      <td>NaN</td>\n",
       "      <td>NaN</td>\n",
       "      <td>NaN</td>\n",
       "      <td>NaN</td>\n",
       "      <td>NaN</td>\n",
       "    </tr>\n",
       "    <tr>\n",
       "      <th>10027225</th>\n",
       "      <td>1377410257844985856</td>\n",
       "      <td>2021-03-31T23:59:31</td>\n",
       "      <td>ar</td>\n",
       "      <td>0.882</td>\n",
       "      <td>1</td>\n",
       "      <td>NaN</td>\n",
       "      <td>NaN</td>\n",
       "      <td>NaN</td>\n",
       "      <td>NaN</td>\n",
       "      <td>NaN</td>\n",
       "    </tr>\n",
       "    <tr>\n",
       "      <th>10027226</th>\n",
       "      <td>1377410323460673537</td>\n",
       "      <td>2021-03-31T23:59:46</td>\n",
       "      <td>ar</td>\n",
       "      <td>0.608</td>\n",
       "      <td>0</td>\n",
       "      <td>NaN</td>\n",
       "      <td>NaN</td>\n",
       "      <td>NaN</td>\n",
       "      <td>NaN</td>\n",
       "      <td>NaN</td>\n",
       "    </tr>\n",
       "    <tr>\n",
       "      <th>10027227</th>\n",
       "      <td>1377410334336581635</td>\n",
       "      <td>2021-03-31T23:59:49</td>\n",
       "      <td>ar</td>\n",
       "      <td>0.926</td>\n",
       "      <td>-1</td>\n",
       "      <td>NaN</td>\n",
       "      <td>NaN</td>\n",
       "      <td>NaN</td>\n",
       "      <td>NaN</td>\n",
       "      <td>NaN</td>\n",
       "    </tr>\n",
       "  </tbody>\n",
       "</table>\n",
       "</div>"
      ],
      "text/plain": [
       "                     tweet_id            date_time lang sentiment_conf  \\\n",
       "10027223  1377410239864176641  2021-03-31T23:59:26   ar          0.725   \n",
       "10027224  1377410257186553859  2021-03-31T23:59:31   ar          0.938   \n",
       "10027225  1377410257844985856  2021-03-31T23:59:31   ar          0.882   \n",
       "10027226  1377410323460673537  2021-03-31T23:59:46   ar          0.608   \n",
       "10027227  1377410334336581635  2021-03-31T23:59:49   ar          0.926   \n",
       "\n",
       "         sentiment_label gender_label geo_country_code geo_state geo_county  \\\n",
       "10027223               0          NaN              NaN       NaN        NaN   \n",
       "10027224               1          NaN              NaN       NaN        NaN   \n",
       "10027225               1          NaN              NaN       NaN        NaN   \n",
       "10027226               0          NaN              NaN       NaN        NaN   \n",
       "10027227              -1          NaN              NaN       NaN        NaN   \n",
       "\n",
       "         geo_city  \n",
       "10027223      NaN  \n",
       "10027224      NaN  \n",
       "10027225      NaN  \n",
       "10027226      NaN  \n",
       "10027227      NaN  "
      ]
     },
     "execution_count": 46,
     "metadata": {},
     "output_type": "execute_result"
    }
   ],
   "source": [
    "df.tail()"
   ]
  },
  {
   "cell_type": "code",
   "execution_count": 47,
   "id": "efa062f9",
   "metadata": {},
   "outputs": [
    {
     "data": {
      "text/plain": [
       "(10027228, 10)"
      ]
     },
     "execution_count": 47,
     "metadata": {},
     "output_type": "execute_result"
    }
   ],
   "source": [
    "df.shape"
   ]
  },
  {
   "cell_type": "markdown",
   "id": "5cf70498",
   "metadata": {},
   "source": [
    "### Filtering"
   ]
  },
  {
   "cell_type": "code",
   "execution_count": 49,
   "id": "69d203a0",
   "metadata": {},
   "outputs": [],
   "source": [
    "newdf = df[(df.lang == \"en\")]"
   ]
  },
  {
   "cell_type": "code",
   "execution_count": 50,
   "id": "a3270959",
   "metadata": {},
   "outputs": [
    {
     "data": {
      "text/plain": [
       "(1348506, 10)"
      ]
     },
     "execution_count": 50,
     "metadata": {},
     "output_type": "execute_result"
    }
   ],
   "source": [
    "newdf.shape"
   ]
  },
  {
   "cell_type": "code",
   "execution_count": 51,
   "id": "373436b6",
   "metadata": {},
   "outputs": [
    {
     "data": {
      "text/html": [
       "<div>\n",
       "<style scoped>\n",
       "    .dataframe tbody tr th:only-of-type {\n",
       "        vertical-align: middle;\n",
       "    }\n",
       "\n",
       "    .dataframe tbody tr th {\n",
       "        vertical-align: top;\n",
       "    }\n",
       "\n",
       "    .dataframe thead th {\n",
       "        text-align: right;\n",
       "    }\n",
       "</style>\n",
       "<table border=\"1\" class=\"dataframe\">\n",
       "  <thead>\n",
       "    <tr style=\"text-align: right;\">\n",
       "      <th></th>\n",
       "      <th>tweet_id</th>\n",
       "      <th>date_time</th>\n",
       "      <th>lang</th>\n",
       "      <th>sentiment_conf</th>\n",
       "      <th>sentiment_label</th>\n",
       "      <th>gender_label</th>\n",
       "      <th>geo_country_code</th>\n",
       "      <th>geo_state</th>\n",
       "      <th>geo_county</th>\n",
       "      <th>geo_city</th>\n",
       "    </tr>\n",
       "  </thead>\n",
       "  <tbody>\n",
       "    <tr>\n",
       "      <th>0</th>\n",
       "      <td>1223395673850118145</td>\n",
       "      <td>2020-02-01T00:00:32</td>\n",
       "      <td>en</td>\n",
       "      <td>0.372</td>\n",
       "      <td>1</td>\n",
       "      <td>NaN</td>\n",
       "      <td>NaN</td>\n",
       "      <td>NaN</td>\n",
       "      <td>NaN</td>\n",
       "      <td>NaN</td>\n",
       "    </tr>\n",
       "    <tr>\n",
       "      <th>1</th>\n",
       "      <td>1223396003807522816</td>\n",
       "      <td>2020-02-01T00:01:51</td>\n",
       "      <td>en</td>\n",
       "      <td>0.718</td>\n",
       "      <td>0</td>\n",
       "      <td>NaN</td>\n",
       "      <td>NaN</td>\n",
       "      <td>NaN</td>\n",
       "      <td>NaN</td>\n",
       "      <td>NaN</td>\n",
       "    </tr>\n",
       "    <tr>\n",
       "      <th>2</th>\n",
       "      <td>1223396128328052736</td>\n",
       "      <td>2020-02-01T00:02:21</td>\n",
       "      <td>en</td>\n",
       "      <td>0.938</td>\n",
       "      <td>-1</td>\n",
       "      <td>NaN</td>\n",
       "      <td>NaN</td>\n",
       "      <td>NaN</td>\n",
       "      <td>NaN</td>\n",
       "      <td>NaN</td>\n",
       "    </tr>\n",
       "    <tr>\n",
       "      <th>3</th>\n",
       "      <td>1223397447482953728</td>\n",
       "      <td>2020-02-01T00:07:35</td>\n",
       "      <td>en</td>\n",
       "      <td>0.794</td>\n",
       "      <td>0</td>\n",
       "      <td>M</td>\n",
       "      <td>NaN</td>\n",
       "      <td>NaN</td>\n",
       "      <td>NaN</td>\n",
       "      <td>NaN</td>\n",
       "    </tr>\n",
       "    <tr>\n",
       "      <th>4</th>\n",
       "      <td>1223398681312804866</td>\n",
       "      <td>2020-02-01T00:12:29</td>\n",
       "      <td>en</td>\n",
       "      <td>0.606</td>\n",
       "      <td>0</td>\n",
       "      <td>NaN</td>\n",
       "      <td>NaN</td>\n",
       "      <td>NaN</td>\n",
       "      <td>NaN</td>\n",
       "      <td>NaN</td>\n",
       "    </tr>\n",
       "  </tbody>\n",
       "</table>\n",
       "</div>"
      ],
      "text/plain": [
       "              tweet_id            date_time lang sentiment_conf  \\\n",
       "0  1223395673850118145  2020-02-01T00:00:32   en          0.372   \n",
       "1  1223396003807522816  2020-02-01T00:01:51   en          0.718   \n",
       "2  1223396128328052736  2020-02-01T00:02:21   en          0.938   \n",
       "3  1223397447482953728  2020-02-01T00:07:35   en          0.794   \n",
       "4  1223398681312804866  2020-02-01T00:12:29   en          0.606   \n",
       "\n",
       "  sentiment_label gender_label geo_country_code geo_state geo_county geo_city  \n",
       "0               1          NaN              NaN       NaN        NaN      NaN  \n",
       "1               0          NaN              NaN       NaN        NaN      NaN  \n",
       "2              -1          NaN              NaN       NaN        NaN      NaN  \n",
       "3               0            M              NaN       NaN        NaN      NaN  \n",
       "4               0          NaN              NaN       NaN        NaN      NaN  "
      ]
     },
     "execution_count": 51,
     "metadata": {},
     "output_type": "execute_result"
    }
   ],
   "source": [
    "newdf.head()"
   ]
  },
  {
   "cell_type": "markdown",
   "id": "c2111056",
   "metadata": {},
   "source": [
    "### Exract Tweet IDs"
   ]
  },
  {
   "cell_type": "code",
   "execution_count": 56,
   "id": "936c0f7b",
   "metadata": {},
   "outputs": [
    {
     "name": "stdout",
     "output_type": "stream",
     "text": [
      "['1223395673850118145', '1223396003807522816', '1223396128328052736', '1223397447482953728', '1223398681312804866', '1223399295698731008', '1223399508429758466', '1223399654181736448', '1223399655616262144', '1223399668559814656']\n"
     ]
    }
   ],
   "source": [
    "tweet_ids = newdf[\"tweet_id\"].tolist()\n",
    "print(tweet_ids[0:10])"
   ]
  },
  {
   "cell_type": "code",
   "execution_count": 58,
   "id": "bac386e9",
   "metadata": {},
   "outputs": [],
   "source": [
    "tweets_ids_file = open(\"tweets_ids.txt\", \"w\")\n",
    "for element in tweet_ids:\n",
    "    tweets_ids_file.write(element + \"\\n\")\n",
    "tweets_ids_file.close()"
   ]
  }
 ],
 "metadata": {
  "kernelspec": {
   "display_name": "Python 3",
   "language": "python",
   "name": "python3"
  },
  "language_info": {
   "codemirror_mode": {
    "name": "ipython",
    "version": 3
   },
   "file_extension": ".py",
   "mimetype": "text/x-python",
   "name": "python",
   "nbconvert_exporter": "python",
   "pygments_lexer": "ipython3",
   "version": "3.8.8"
  }
 },
 "nbformat": 4,
 "nbformat_minor": 5
}
